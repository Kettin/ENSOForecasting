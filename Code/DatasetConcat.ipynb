{
 "cells": [
  {
   "cell_type": "code",
   "execution_count": 13,
   "id": "9b762f3a",
   "metadata": {},
   "outputs": [],
   "source": [
    "import xarray as xr\n",
    "import pandas as pd\n",
    "import glob\n",
    "import os\n",
    "import numpy as np"
   ]
  },
  {
   "cell_type": "code",
   "execution_count": null,
   "id": "7edc769d",
   "metadata": {},
   "outputs": [
    {
     "name": "stdout",
     "output_type": "stream",
     "text": [
      "   Tahun  Bulan  Grid1  Grid2  Grid3  Grid4  Grid5  Grid6  Grid7  Grid8  ...  \\\n",
      "0   1950      1    NaN    NaN    NaN    NaN    NaN    NaN    NaN    NaN  ...   \n",
      "1   1950      2    NaN    NaN    NaN    NaN    NaN    NaN    NaN    NaN  ...   \n",
      "2   1950      3    NaN    NaN    NaN    NaN    NaN    NaN    NaN    NaN  ...   \n",
      "3   1950      4    NaN    NaN    NaN    NaN    NaN    NaN    NaN    NaN  ...   \n",
      "4   1950      5    NaN    NaN    NaN    NaN    NaN    NaN    NaN    NaN  ...   \n",
      "\n",
      "   Grid16011  Grid16012  Grid16013  Grid16014  Grid16015  Grid16016  \\\n",
      "0       -1.8       -1.8       -1.8       -1.8       -1.8       -1.8   \n",
      "1       -1.8       -1.8       -1.8       -1.8       -1.8       -1.8   \n",
      "2       -1.8       -1.8       -1.8       -1.8       -1.8       -1.8   \n",
      "3       -1.8       -1.8       -1.8       -1.8       -1.8       -1.8   \n",
      "4       -1.8       -1.8       -1.8       -1.8       -1.8       -1.8   \n",
      "\n",
      "   Grid16017  Grid16018  Grid16019  Grid16020  \n",
      "0       -1.8       -1.8       -1.8       -1.8  \n",
      "1       -1.8       -1.8       -1.8       -1.8  \n",
      "2       -1.8       -1.8       -1.8       -1.8  \n",
      "3       -1.8       -1.8       -1.8       -1.8  \n",
      "4       -1.8       -1.8       -1.8       -1.8  \n",
      "\n",
      "[5 rows x 16022 columns]\n",
      "Total grid (dengan NaN): 16020\n",
      "Selesai! CSV semua grid (termasuk daratan/NaN) tersimpan.\n"
     ]
    }
   ],
   "source": [
    "# Folder NetCDF\n",
    "folder = r\"C:\\Users\\kettin\\Documents\\Lomba\\GEMASTIKSciPaper\\Dataset\\SSTv6\"\n",
    "files = sorted(glob.glob(os.path.join(folder, \"ersst.v5.*.nc\")))\n",
    "\n",
    "all_data = []\n",
    "\n",
    "# Ambil dimensi grid dari file pertama (buat tahu jumlah grid)\n",
    "ds0 = xr.open_dataset(files[0])\n",
    "grid_size = ds0[\"sst\"].values.squeeze().size  # total lat*lon\n",
    "\n",
    "for f in files:\n",
    "    fname = os.path.basename(f)\n",
    "    year = int(fname.split(\".\")[2][:4])\n",
    "    month = int(fname.split(\".\")[2][4:6])\n",
    "\n",
    "    ds = xr.open_dataset(f)\n",
    "    sst = ds[\"sst\"].values.squeeze().flatten()  # 2D jadi 1D, termasuk NaN\n",
    "\n",
    "    row = [year, month] + sst.tolist()\n",
    "    all_data.append(row)\n",
    "\n",
    "# Buat DataFrame (semua grid termasuk NaN)\n",
    "columns = [\"Tahun\", \"Bulan\"] + [f\"Grid{i+1}\" for i in range(grid_size)]\n",
    "df = pd.DataFrame(all_data, columns=columns)\n",
    "\n",
    "# Preview\n",
    "print(df.head())\n",
    "print(f\"Total grid (dengan NaN): {grid_size}\")\n",
    "\n",
    "# Simpan CSV\n",
    "df.to_csv(os.path.join(folder, \"ERSST_1950_2024_full.csv\"), index=False)\n",
    "print(\"Selesai! CSV semua grid (termasuk daratan/NaN) tersimpan.\")\n"
   ]
  },
  {
   "cell_type": "code",
   "execution_count": null,
   "id": "9eb9436c",
   "metadata": {},
   "outputs": [
    {
     "name": "stderr",
     "output_type": "stream",
     "text": [
      "C:\\Users\\kettin\\AppData\\Local\\Temp\\ipykernel_7096\\2271450100.py:5: FutureWarning: The 'delim_whitespace' keyword in pd.read_csv is deprecated and will be removed in a future version. Use ``sep='\\s+'`` instead\n",
      "  df1 = pd.read_csv(nino_file, delim_whitespace=True, comment=\"#\")\n"
     ]
    },
    {
     "name": "stdout",
     "output_type": "stream",
     "text": [
      "Selesai! Data NINO3.4 tersimpan di C:\\Users\\kettin\\Documents\\Lomba\\GEMASTIKSciPaper\\Dataset\\NINO34_1950_2024.csv\n",
      "       YR  MON  NINO3.4  ANOM\n",
      "0    1950    1    24.55 -1.55\n",
      "1    1950    2    25.06 -1.78\n",
      "2    1950    3    25.87 -1.38\n",
      "3    1950    4    26.28 -1.90\n",
      "4    1950    5    26.18 -1.74\n",
      "..    ...  ...      ...   ...\n",
      "895  2024    8    26.73 -0.42\n",
      "896  2024    9    26.45 -0.75\n",
      "897  2024   10    26.44 -0.32\n",
      "898  2024   11    26.45  0.06\n",
      "899  2024   12    26.00 -0.03\n",
      "\n",
      "[900 rows x 4 columns]\n"
     ]
    }
   ],
   "source": [
    "# Lokasi file NINO (ubah sesuai path kamu)\n",
    "nino_file = r\"C:\\Users\\kettin\\Documents\\Lomba\\GEMASTIKSciPaper\\Dataset\\NINO34\\ersst5.nino.mth.91-20.ascii.txt\"\n",
    "\n",
    "# Baca file, skip baris komentar (#) dan pakai whitespace sebagai delimiter\n",
    "df1 = pd.read_csv(nino_file, delim_whitespace=True, comment=\"#\")\n",
    "\n",
    "# Kolom asli biasanya seperti ini:\n",
    "# YR MON NINO1+2 ANOM NINO3 ANOM NINO4 ANOM NINO3.4 ANOM\n",
    "# Ambil hanya YR, MON, NINO3.4, dan ANOM terakhir\n",
    "df1 = df1[[\"YR\", \"MON\", \"NINO3.4\", \"ANOM\"]]\n",
    "\n",
    "# Filter hanya sampai 2024-12\n",
    "df1 = df1[(df1[\"YR\"] < 2025)]\n",
    "\n",
    "# Simpan ke CSV\n",
    "output_file = r\"C:\\Users\\kettin\\Documents\\Lomba\\GEMASTIKSciPaper\\Dataset\\NINO34\\NINO34_1950_2024.csv\"\n",
    "df.to_csv(output_file, index=False)\n",
    "\n",
    "print(f\"Selesai! Data NINO3.4 tersimpan di {output_file}\")\n",
    "print(df1)"
   ]
  },
  {
   "cell_type": "code",
   "execution_count": null,
   "id": "dd942c50",
   "metadata": {},
   "outputs": [
    {
     "name": "stdout",
     "output_type": "stream",
     "text": [
      "Dataset ENSO berhasil disimpan di C:\\Users\\kettin\\Documents\\Lomba\\GEMASTIKSciPaper\\ENSO_dataset.csv\n",
      "   Tahun  Bulan  Grid1  Grid2  Grid3  Grid4  Grid5  Grid6  Grid7  Grid8  ...  \\\n",
      "0   1950      1    NaN    NaN    NaN    NaN    NaN    NaN    NaN    NaN  ...   \n",
      "1   1950      2    NaN    NaN    NaN    NaN    NaN    NaN    NaN    NaN  ...   \n",
      "2   1950      3    NaN    NaN    NaN    NaN    NaN    NaN    NaN    NaN  ...   \n",
      "3   1950      4    NaN    NaN    NaN    NaN    NaN    NaN    NaN    NaN  ...   \n",
      "4   1950      5    NaN    NaN    NaN    NaN    NaN    NaN    NaN    NaN  ...   \n",
      "\n",
      "   Grid16013  Grid16014  Grid16015  Grid16016  Grid16017  Grid16018  \\\n",
      "0       -1.8       -1.8       -1.8       -1.8       -1.8       -1.8   \n",
      "1       -1.8       -1.8       -1.8       -1.8       -1.8       -1.8   \n",
      "2       -1.8       -1.8       -1.8       -1.8       -1.8       -1.8   \n",
      "3       -1.8       -1.8       -1.8       -1.8       -1.8       -1.8   \n",
      "4       -1.8       -1.8       -1.8       -1.8       -1.8       -1.8   \n",
      "\n",
      "   Grid16019  Grid16020  NINO3.4  ANOM  \n",
      "0       -1.8       -1.8    24.55 -1.55  \n",
      "1       -1.8       -1.8    25.06 -1.78  \n",
      "2       -1.8       -1.8    25.87 -1.38  \n",
      "3       -1.8       -1.8    26.28 -1.90  \n",
      "4       -1.8       -1.8    26.18 -1.74  \n",
      "\n",
      "[5 rows x 16024 columns]\n"
     ]
    }
   ],
   "source": [
    "# Hapus kolom YR dan MON dari df1\n",
    "df1_clean = df1.drop(columns=[\"YR\", \"MON\"])\n",
    "\n",
    "# Gabungkan secara horizontal (baris 1 ketemu baris 1, dst)\n",
    "enso_df = pd.concat([df, df1_clean], axis=1)\n",
    "\n",
    "# Simpan ke CSV\n",
    "output_file = r\"C:\\Users\\kettin\\Documents\\Lomba\\GEMASTIKSciPaper\\Dataset\\ENSO_dataset.csv\"\n",
    "enso_df.to_csv(output_file, index=False)\n",
    "\n",
    "print(f\"Dataset ENSO berhasil disimpan di {output_file}\")\n",
    "print(enso_df.head())"
   ]
  }
 ],
 "metadata": {
  "kernelspec": {
   "display_name": "Python 3",
   "language": "python",
   "name": "python3"
  },
  "language_info": {
   "codemirror_mode": {
    "name": "ipython",
    "version": 3
   },
   "file_extension": ".py",
   "mimetype": "text/x-python",
   "name": "python",
   "nbconvert_exporter": "python",
   "pygments_lexer": "ipython3",
   "version": "3.13.5"
  }
 },
 "nbformat": 4,
 "nbformat_minor": 5
}
