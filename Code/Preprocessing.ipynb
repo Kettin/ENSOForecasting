{
 "cells": [
  {
   "cell_type": "markdown",
   "id": "df629eb0",
   "metadata": {},
   "source": [
    "# Pre-Processing"
   ]
  },
  {
   "cell_type": "code",
   "execution_count": 2,
   "id": "425afc6d",
   "metadata": {},
   "outputs": [],
   "source": [
    "import pandas as pd"
   ]
  },
  {
   "cell_type": "code",
   "execution_count": 3,
   "id": "edc1f7b8",
   "metadata": {},
   "outputs": [
    {
     "name": "stdout",
     "output_type": "stream",
     "text": [
      "   Tahun  Bulan  Grid1  Grid2  Grid3  Grid4  Grid5  Grid6  Grid7  Grid8  ...  \\\n",
      "0   1950      1    NaN    NaN    NaN    NaN    NaN    NaN    NaN    NaN  ...   \n",
      "1   1950      2    NaN    NaN    NaN    NaN    NaN    NaN    NaN    NaN  ...   \n",
      "2   1950      3    NaN    NaN    NaN    NaN    NaN    NaN    NaN    NaN  ...   \n",
      "3   1950      4    NaN    NaN    NaN    NaN    NaN    NaN    NaN    NaN  ...   \n",
      "4   1950      5    NaN    NaN    NaN    NaN    NaN    NaN    NaN    NaN  ...   \n",
      "\n",
      "   Grid16013  Grid16014  Grid16015  Grid16016  Grid16017  Grid16018  \\\n",
      "0       -1.8       -1.8       -1.8       -1.8       -1.8       -1.8   \n",
      "1       -1.8       -1.8       -1.8       -1.8       -1.8       -1.8   \n",
      "2       -1.8       -1.8       -1.8       -1.8       -1.8       -1.8   \n",
      "3       -1.8       -1.8       -1.8       -1.8       -1.8       -1.8   \n",
      "4       -1.8       -1.8       -1.8       -1.8       -1.8       -1.8   \n",
      "\n",
      "   Grid16019  Grid16020  NINO3.4  ANOM  \n",
      "0       -1.8       -1.8    24.55 -1.55  \n",
      "1       -1.8       -1.8    25.06 -1.78  \n",
      "2       -1.8       -1.8    25.87 -1.38  \n",
      "3       -1.8       -1.8    26.28 -1.90  \n",
      "4       -1.8       -1.8    26.18 -1.74  \n",
      "\n",
      "[5 rows x 16024 columns]\n"
     ]
    }
   ],
   "source": [
    "# import dataset\n",
    "df = pd.read_csv(r'C:\\Users\\kettin\\Documents\\Lomba\\GEMASTIKSciPaper\\Dataset\\ENSO_dataset.csv')\n",
    "print(df.head())"
   ]
  },
  {
   "cell_type": "code",
   "execution_count": 4,
   "id": "15be9423",
   "metadata": {},
   "outputs": [
    {
     "name": "stdout",
     "output_type": "stream",
     "text": [
      "Index(['Grid1', 'Grid2', 'Grid3', 'Grid4', 'Grid5', 'Grid6', 'Grid7', 'Grid8',\n",
      "       'Grid9', 'Grid10',\n",
      "       ...\n",
      "       'Grid15459', 'Grid15460', 'Grid15461', 'Grid15462', 'Grid15463',\n",
      "       'Grid15464', 'Grid15465', 'Grid15466', 'Grid15467', 'Grid15468'],\n",
      "      dtype='object', length=5032)\n"
     ]
    }
   ],
   "source": [
    "#hapus semua kolom yang isinya NULL semua\n",
    "print(df.columns[df.isna().all()])\n",
    "df = df.dropna(axis=1, how='all')"
   ]
  },
  {
   "cell_type": "code",
   "execution_count": 5,
   "id": "df4a0eba",
   "metadata": {},
   "outputs": [
    {
     "name": "stdout",
     "output_type": "stream",
     "text": [
      "Jumlah total NaN di seluruh dataset: 0\n"
     ]
    }
   ],
   "source": [
    "#cek jumlah NULL tersisa\n",
    "total_nan = df.isna().sum().sum()\n",
    "print(f\"Jumlah total NaN di seluruh dataset: {total_nan}\")"
   ]
  },
  {
   "cell_type": "code",
   "execution_count": 6,
   "id": "67e867a1",
   "metadata": {},
   "outputs": [],
   "source": [
    "#karena yang digunakan untuk menentukan el nino la nina adalah anomalinya\n",
    "# Hapus kolom NINO3.4 lama\n",
    "df = df.drop(columns=['NINO3.4'])\n",
    "\n",
    "# Ganti nama ANOM jadi NINO3.4\n",
    "df = df.rename(columns={'ANOM': 'NINO3.4'})"
   ]
  },
  {
   "cell_type": "code",
   "execution_count": 7,
   "id": "5fcc5ff6",
   "metadata": {},
   "outputs": [
    {
     "name": "stdout",
     "output_type": "stream",
     "text": [
      "Min: -1.7999999523162842\n",
      "Max: 34.39228820800781\n",
      "Mean: 13.74652894268218\n"
     ]
    }
   ],
   "source": [
    "#cek apakah grid berisi suhu asli atau anomali\n",
    "# Ambil semua kolom grid (selain Tahun, Bulan, NINO3.4)\n",
    "grid_cols = df.drop(columns=['Tahun', 'Bulan', 'NINO3.4']).columns\n",
    "\n",
    "import numpy as np\n",
    "\n",
    "# Ambil semua nilai grid ke array 1D\n",
    "all_values = df[grid_cols].values.flatten()\n",
    "\n",
    "# Cari min, max, dan mean\n",
    "min_val = np.min(all_values)\n",
    "max_val = np.max(all_values)\n",
    "mean_val = np.mean(all_values)\n",
    "\n",
    "print(\"Min:\", min_val)\n",
    "print(\"Max:\", max_val)\n",
    "print(\"Mean:\", mean_val)\n"
   ]
  },
  {
   "cell_type": "code",
   "execution_count": 8,
   "id": "86beaf3b",
   "metadata": {},
   "outputs": [
    {
     "name": "stdout",
     "output_type": "stream",
     "text": [
      "   Tahun  Bulan  Grid1163  Grid1164  Grid1165  Grid1166  Grid1167  Grid1168  \\\n",
      "0   1950      1  0.301079 -0.090344 -0.289011 -0.388230 -0.407921 -0.379495   \n",
      "1   1950      2  0.024788 -0.230754 -0.334247 -0.412546 -0.427949 -0.382773   \n",
      "2   1950      3  0.102170 -0.047959 -0.084494 -0.207032 -0.268234 -0.207919   \n",
      "3   1950      4 -0.008598 -0.000866 -0.000061 -0.000299 -0.001452 -0.001958   \n",
      "4   1950      5  0.000000  0.000000  0.000000  0.000000  0.000000  0.000000   \n",
      "\n",
      "   Grid1169  Grid1170  ...  Grid16012  Grid16013  Grid16014  Grid16015  \\\n",
      "0 -0.351447 -0.305173  ...        0.0        0.0        0.0        0.0   \n",
      "1 -0.353728 -0.336454  ...        0.0        0.0        0.0        0.0   \n",
      "2 -0.144358 -0.096469  ...        0.0        0.0        0.0        0.0   \n",
      "3 -0.001467 -0.001367  ...        0.0        0.0        0.0        0.0   \n",
      "4  0.000000  0.000000  ...        0.0        0.0        0.0        0.0   \n",
      "\n",
      "   Grid16016  Grid16017  Grid16018  Grid16019  Grid16020  NINO3.4  \n",
      "0        0.0        0.0        0.0        0.0        0.0    -1.55  \n",
      "1        0.0        0.0        0.0        0.0        0.0    -1.78  \n",
      "2        0.0        0.0        0.0        0.0        0.0    -1.38  \n",
      "3        0.0        0.0        0.0        0.0        0.0    -1.90  \n",
      "4        0.0        0.0        0.0        0.0        0.0    -1.74  \n",
      "\n",
      "[5 rows x 10991 columns]\n"
     ]
    }
   ],
   "source": [
    "#karena masih meruapakan suhu mentah, kita ubah grid SST menjadi anomali\n",
    "\n",
    "# 1. Filter data baseline (1981–2010)\n",
    "baseline_df = df[(df['Tahun'] >= 1981) & (df['Tahun'] <= 2010)]\n",
    "\n",
    "# 2. Hitung klimatologi bulanan (rata-rata setiap bulan per grid) dari baseline\n",
    "climatology = baseline_df.groupby('Bulan')[grid_cols].mean()\n",
    "\n",
    "# 3. Hitung anomali untuk seluruh dataset (1950–2024)\n",
    "def calc_anomaly(row):\n",
    "    month = row['Bulan']\n",
    "    return row[grid_cols] - climatology.loc[month]\n",
    "\n",
    "df[grid_cols] = df.apply(calc_anomaly, axis=1)\n",
    "\n",
    "print(df.head())\n"
   ]
  },
  {
   "cell_type": "code",
   "execution_count": 9,
   "id": "592c9197",
   "metadata": {},
   "outputs": [
    {
     "name": "stdout",
     "output_type": "stream",
     "text": [
      "Jumlah cell 0.0: 1198868\n",
      "Total cell: 9889200\n",
      "Persentase 0.0: 12.12%\n"
     ]
    }
   ],
   "source": [
    "# Gabungkan semua nilai grid ke satu array\n",
    "all_values = df[grid_cols].values.flatten()\n",
    "\n",
    "# Hitung jumlah 0.0 dan total cell\n",
    "zero_count = np.sum(all_values == 0.0)\n",
    "total_count = all_values.size\n",
    "\n",
    "# Hitung persentase\n",
    "percent_zero = (zero_count / total_count) * 100\n",
    "\n",
    "print(f\"Jumlah cell 0.0: {zero_count}\")\n",
    "print(f\"Total cell: {total_count}\")\n",
    "print(f\"Persentase 0.0: {percent_zero:.2f}%\")"
   ]
  },
  {
   "cell_type": "code",
   "execution_count": 10,
   "id": "6d1cbe9d",
   "metadata": {},
   "outputs": [
    {
     "name": "stdout",
     "output_type": "stream",
     "text": [
      "   Tahun  Bulan  Grid1163  Grid1164  Grid1165  Grid1166  Grid1167  Grid1168  \\\n",
      "0   1950      1  0.681309  0.588332  0.442800  0.452465  0.508452  0.574813   \n",
      "1   1950      2  0.498810  0.481532  0.409890  0.434850  0.496863  0.573238   \n",
      "2   1950      3  0.549923  0.620571  0.591584  0.583730  0.589284  0.657282   \n",
      "3   1950      4  0.476758  0.656391  0.653008  0.733495  0.743660  0.756278   \n",
      "4   1950      5  0.482436  0.657050  0.653053  0.733711  0.744500  0.757219   \n",
      "\n",
      "   Grid1169  Grid1170  ...  Grid16012  Grid16013  Grid16014  Grid16015  \\\n",
      "0  0.603147  0.611256  ...   0.010061        0.0        0.0        0.0   \n",
      "1  0.602100  0.596741  ...   0.010061        0.0        0.0        0.0   \n",
      "2  0.698252  0.708102  ...   0.010061        0.0        0.0        0.0   \n",
      "3  0.763874  0.752233  ...   0.010061        0.0        0.0        0.0   \n",
      "4  0.764548  0.752867  ...   0.010061        0.0        0.0        0.0   \n",
      "\n",
      "   Grid16016  Grid16017  Grid16018  Grid16019  Grid16020  NINO3.4  \n",
      "0        0.0        0.0        0.0        0.0        0.0    -1.55  \n",
      "1        0.0        0.0        0.0        0.0        0.0    -1.78  \n",
      "2        0.0        0.0        0.0        0.0        0.0    -1.38  \n",
      "3        0.0        0.0        0.0        0.0        0.0    -1.90  \n",
      "4        0.0        0.0        0.0        0.0        0.0    -1.74  \n",
      "\n",
      "[5 rows x 10991 columns]\n"
     ]
    }
   ],
   "source": [
    "from sklearn.preprocessing import MinMaxScaler\n",
    "\n",
    "# Normalisasi grid SST ke 0–1 (langsung overwrite)\n",
    "scaler = MinMaxScaler()\n",
    "df[grid_cols] = scaler.fit_transform(df[grid_cols])\n",
    "\n",
    "# Cek hasil\n",
    "print(df.head())"
   ]
  },
  {
   "cell_type": "code",
   "execution_count": 11,
   "id": "8434a2c7",
   "metadata": {},
   "outputs": [
    {
     "name": "stdout",
     "output_type": "stream",
     "text": [
      "Dataset berhasil disimpan sebagai SST_preprocessed.csv\n"
     ]
    }
   ],
   "source": [
    "# Simpan ke CSV\n",
    "df.to_csv('ENSO_dataset_preprocessed.csv', index=False)\n",
    "\n",
    "print(\"Dataset berhasil disimpan sebagai SST_preprocessed.csv\")"
   ]
  },
  {
   "cell_type": "markdown",
   "id": "67feb1c6",
   "metadata": {},
   "source": [
    "# Autoencoder"
   ]
  },
  {
   "cell_type": "code",
   "execution_count": 12,
   "id": "a9d77ae3",
   "metadata": {},
   "outputs": [
    {
     "name": "stdout",
     "output_type": "stream",
     "text": [
      "Shape data grid: (900, 10988)\n"
     ]
    }
   ],
   "source": [
    "#pisahkan fitur SST dari target\n",
    "# Ambil kolom grid SST (fitur)\n",
    "X = df[grid_cols].values  # jadi numpy array\n",
    "print(\"Shape data grid:\", X.shape)  # (jumlah_sampel, 10991)"
   ]
  },
  {
   "cell_type": "code",
   "execution_count": 13,
   "id": "23d4bfc1",
   "metadata": {},
   "outputs": [
    {
     "name": "stdout",
     "output_type": "stream",
     "text": [
      "Train: (720, 10988) Validation: (180, 10988)\n"
     ]
    }
   ],
   "source": [
    "#split data\n",
    "from sklearn.model_selection import train_test_split\n",
    "\n",
    "X_train, X_val = train_test_split(X, test_size=0.2, random_state=42)\n",
    "print(\"Train:\", X_train.shape, \"Validation:\", X_val.shape)"
   ]
  },
  {
   "cell_type": "code",
   "execution_count": 14,
   "id": "b8b9305b",
   "metadata": {},
   "outputs": [
    {
     "data": {
      "text/html": [
       "<pre style=\"white-space:pre;overflow-x:auto;line-height:normal;font-family:Menlo,'DejaVu Sans Mono',consolas,'Courier New',monospace\"><span style=\"font-weight: bold\">Model: \"functional\"</span>\n",
       "</pre>\n"
      ],
      "text/plain": [
       "\u001b[1mModel: \"functional\"\u001b[0m\n"
      ]
     },
     "metadata": {},
     "output_type": "display_data"
    },
    {
     "data": {
      "text/html": [
       "<pre style=\"white-space:pre;overflow-x:auto;line-height:normal;font-family:Menlo,'DejaVu Sans Mono',consolas,'Courier New',monospace\">┏━━━━━━━━━━━━━━━━━━━━━━━━━━━━━━━━━┳━━━━━━━━━━━━━━━━━━━━━━━━┳━━━━━━━━━━━━━━━┓\n",
       "┃<span style=\"font-weight: bold\"> Layer (type)                    </span>┃<span style=\"font-weight: bold\"> Output Shape           </span>┃<span style=\"font-weight: bold\">       Param # </span>┃\n",
       "┡━━━━━━━━━━━━━━━━━━━━━━━━━━━━━━━━━╇━━━━━━━━━━━━━━━━━━━━━━━━╇━━━━━━━━━━━━━━━┩\n",
       "│ input_layer (<span style=\"color: #0087ff; text-decoration-color: #0087ff\">InputLayer</span>)        │ (<span style=\"color: #00d7ff; text-decoration-color: #00d7ff\">None</span>, <span style=\"color: #00af00; text-decoration-color: #00af00\">10988</span>)          │             <span style=\"color: #00af00; text-decoration-color: #00af00\">0</span> │\n",
       "├─────────────────────────────────┼────────────────────────┼───────────────┤\n",
       "│ dense (<span style=\"color: #0087ff; text-decoration-color: #0087ff\">Dense</span>)                   │ (<span style=\"color: #00d7ff; text-decoration-color: #00d7ff\">None</span>, <span style=\"color: #00af00; text-decoration-color: #00af00\">2048</span>)           │    <span style=\"color: #00af00; text-decoration-color: #00af00\">22,505,472</span> │\n",
       "├─────────────────────────────────┼────────────────────────┼───────────────┤\n",
       "│ dense_1 (<span style=\"color: #0087ff; text-decoration-color: #0087ff\">Dense</span>)                 │ (<span style=\"color: #00d7ff; text-decoration-color: #00d7ff\">None</span>, <span style=\"color: #00af00; text-decoration-color: #00af00\">512</span>)            │     <span style=\"color: #00af00; text-decoration-color: #00af00\">1,049,088</span> │\n",
       "├─────────────────────────────────┼────────────────────────┼───────────────┤\n",
       "│ dense_2 (<span style=\"color: #0087ff; text-decoration-color: #0087ff\">Dense</span>)                 │ (<span style=\"color: #00d7ff; text-decoration-color: #00d7ff\">None</span>, <span style=\"color: #00af00; text-decoration-color: #00af00\">128</span>)            │        <span style=\"color: #00af00; text-decoration-color: #00af00\">65,664</span> │\n",
       "├─────────────────────────────────┼────────────────────────┼───────────────┤\n",
       "│ dense_3 (<span style=\"color: #0087ff; text-decoration-color: #0087ff\">Dense</span>)                 │ (<span style=\"color: #00d7ff; text-decoration-color: #00d7ff\">None</span>, <span style=\"color: #00af00; text-decoration-color: #00af00\">512</span>)            │        <span style=\"color: #00af00; text-decoration-color: #00af00\">66,048</span> │\n",
       "├─────────────────────────────────┼────────────────────────┼───────────────┤\n",
       "│ dense_4 (<span style=\"color: #0087ff; text-decoration-color: #0087ff\">Dense</span>)                 │ (<span style=\"color: #00d7ff; text-decoration-color: #00d7ff\">None</span>, <span style=\"color: #00af00; text-decoration-color: #00af00\">2048</span>)           │     <span style=\"color: #00af00; text-decoration-color: #00af00\">1,050,624</span> │\n",
       "├─────────────────────────────────┼────────────────────────┼───────────────┤\n",
       "│ dense_5 (<span style=\"color: #0087ff; text-decoration-color: #0087ff\">Dense</span>)                 │ (<span style=\"color: #00d7ff; text-decoration-color: #00d7ff\">None</span>, <span style=\"color: #00af00; text-decoration-color: #00af00\">10988</span>)          │    <span style=\"color: #00af00; text-decoration-color: #00af00\">22,514,412</span> │\n",
       "└─────────────────────────────────┴────────────────────────┴───────────────┘\n",
       "</pre>\n"
      ],
      "text/plain": [
       "┏━━━━━━━━━━━━━━━━━━━━━━━━━━━━━━━━━┳━━━━━━━━━━━━━━━━━━━━━━━━┳━━━━━━━━━━━━━━━┓\n",
       "┃\u001b[1m \u001b[0m\u001b[1mLayer (type)                   \u001b[0m\u001b[1m \u001b[0m┃\u001b[1m \u001b[0m\u001b[1mOutput Shape          \u001b[0m\u001b[1m \u001b[0m┃\u001b[1m \u001b[0m\u001b[1m      Param #\u001b[0m\u001b[1m \u001b[0m┃\n",
       "┡━━━━━━━━━━━━━━━━━━━━━━━━━━━━━━━━━╇━━━━━━━━━━━━━━━━━━━━━━━━╇━━━━━━━━━━━━━━━┩\n",
       "│ input_layer (\u001b[38;5;33mInputLayer\u001b[0m)        │ (\u001b[38;5;45mNone\u001b[0m, \u001b[38;5;34m10988\u001b[0m)          │             \u001b[38;5;34m0\u001b[0m │\n",
       "├─────────────────────────────────┼────────────────────────┼───────────────┤\n",
       "│ dense (\u001b[38;5;33mDense\u001b[0m)                   │ (\u001b[38;5;45mNone\u001b[0m, \u001b[38;5;34m2048\u001b[0m)           │    \u001b[38;5;34m22,505,472\u001b[0m │\n",
       "├─────────────────────────────────┼────────────────────────┼───────────────┤\n",
       "│ dense_1 (\u001b[38;5;33mDense\u001b[0m)                 │ (\u001b[38;5;45mNone\u001b[0m, \u001b[38;5;34m512\u001b[0m)            │     \u001b[38;5;34m1,049,088\u001b[0m │\n",
       "├─────────────────────────────────┼────────────────────────┼───────────────┤\n",
       "│ dense_2 (\u001b[38;5;33mDense\u001b[0m)                 │ (\u001b[38;5;45mNone\u001b[0m, \u001b[38;5;34m128\u001b[0m)            │        \u001b[38;5;34m65,664\u001b[0m │\n",
       "├─────────────────────────────────┼────────────────────────┼───────────────┤\n",
       "│ dense_3 (\u001b[38;5;33mDense\u001b[0m)                 │ (\u001b[38;5;45mNone\u001b[0m, \u001b[38;5;34m512\u001b[0m)            │        \u001b[38;5;34m66,048\u001b[0m │\n",
       "├─────────────────────────────────┼────────────────────────┼───────────────┤\n",
       "│ dense_4 (\u001b[38;5;33mDense\u001b[0m)                 │ (\u001b[38;5;45mNone\u001b[0m, \u001b[38;5;34m2048\u001b[0m)           │     \u001b[38;5;34m1,050,624\u001b[0m │\n",
       "├─────────────────────────────────┼────────────────────────┼───────────────┤\n",
       "│ dense_5 (\u001b[38;5;33mDense\u001b[0m)                 │ (\u001b[38;5;45mNone\u001b[0m, \u001b[38;5;34m10988\u001b[0m)          │    \u001b[38;5;34m22,514,412\u001b[0m │\n",
       "└─────────────────────────────────┴────────────────────────┴───────────────┘\n"
      ]
     },
     "metadata": {},
     "output_type": "display_data"
    },
    {
     "data": {
      "text/html": [
       "<pre style=\"white-space:pre;overflow-x:auto;line-height:normal;font-family:Menlo,'DejaVu Sans Mono',consolas,'Courier New',monospace\"><span style=\"font-weight: bold\"> Total params: </span><span style=\"color: #00af00; text-decoration-color: #00af00\">47,251,308</span> (180.25 MB)\n",
       "</pre>\n"
      ],
      "text/plain": [
       "\u001b[1m Total params: \u001b[0m\u001b[38;5;34m47,251,308\u001b[0m (180.25 MB)\n"
      ]
     },
     "metadata": {},
     "output_type": "display_data"
    },
    {
     "data": {
      "text/html": [
       "<pre style=\"white-space:pre;overflow-x:auto;line-height:normal;font-family:Menlo,'DejaVu Sans Mono',consolas,'Courier New',monospace\"><span style=\"font-weight: bold\"> Trainable params: </span><span style=\"color: #00af00; text-decoration-color: #00af00\">47,251,308</span> (180.25 MB)\n",
       "</pre>\n"
      ],
      "text/plain": [
       "\u001b[1m Trainable params: \u001b[0m\u001b[38;5;34m47,251,308\u001b[0m (180.25 MB)\n"
      ]
     },
     "metadata": {},
     "output_type": "display_data"
    },
    {
     "data": {
      "text/html": [
       "<pre style=\"white-space:pre;overflow-x:auto;line-height:normal;font-family:Menlo,'DejaVu Sans Mono',consolas,'Courier New',monospace\"><span style=\"font-weight: bold\"> Non-trainable params: </span><span style=\"color: #00af00; text-decoration-color: #00af00\">0</span> (0.00 B)\n",
       "</pre>\n"
      ],
      "text/plain": [
       "\u001b[1m Non-trainable params: \u001b[0m\u001b[38;5;34m0\u001b[0m (0.00 B)\n"
      ]
     },
     "metadata": {},
     "output_type": "display_data"
    }
   ],
   "source": [
    "import tensorflow as tf\n",
    "from tensorflow.keras import layers, models\n",
    "\n",
    "input_dim = X_train.shape[1]   # 10991 fitur\n",
    "encoding_dim = 128             # ukuran bottleneck (kompresi)\n",
    "\n",
    "# Encoder\n",
    "input_layer = layers.Input(shape=(input_dim,))\n",
    "encoded = layers.Dense(2048, activation='relu')(input_layer)\n",
    "encoded = layers.Dense(512, activation='relu')(encoded)\n",
    "encoded = layers.Dense(encoding_dim, activation='relu')(encoded)  # bottleneck\n",
    "\n",
    "# Decoder\n",
    "decoded = layers.Dense(512, activation='relu')(encoded)\n",
    "decoded = layers.Dense(2048, activation='relu')(decoded)\n",
    "decoded = layers.Dense(input_dim, activation='sigmoid')(decoded)  # rekonstruksi\n",
    "\n",
    "# Autoencoder & Encoder model\n",
    "autoencoder = models.Model(input_layer, decoded)\n",
    "encoder = models.Model(input_layer, encoded)\n",
    "\n",
    "# Compile autoencoder\n",
    "autoencoder.compile(optimizer='adam', loss='mse')\n",
    "\n",
    "autoencoder.summary()"
   ]
  },
  {
   "cell_type": "code",
   "execution_count": 15,
   "id": "7ac7828c",
   "metadata": {},
   "outputs": [
    {
     "name": "stdout",
     "output_type": "stream",
     "text": [
      "Epoch 1/50\n",
      "\u001b[1m12/12\u001b[0m \u001b[32m━━━━━━━━━━━━━━━━━━━━\u001b[0m\u001b[37m\u001b[0m \u001b[1m6s\u001b[0m 400ms/step - loss: 0.0362 - val_loss: 0.0240\n",
      "Epoch 2/50\n",
      "\u001b[1m12/12\u001b[0m \u001b[32m━━━━━━━━━━━━━━━━━━━━\u001b[0m\u001b[37m\u001b[0m \u001b[1m4s\u001b[0m 353ms/step - loss: 0.0232 - val_loss: 0.0232\n",
      "Epoch 3/50\n",
      "\u001b[1m12/12\u001b[0m \u001b[32m━━━━━━━━━━━━━━━━━━━━\u001b[0m\u001b[37m\u001b[0m \u001b[1m4s\u001b[0m 345ms/step - loss: 0.0220 - val_loss: 0.0207\n",
      "Epoch 4/50\n",
      "\u001b[1m12/12\u001b[0m \u001b[32m━━━━━━━━━━━━━━━━━━━━\u001b[0m\u001b[37m\u001b[0m \u001b[1m4s\u001b[0m 345ms/step - loss: 0.0205 - val_loss: 0.0192\n",
      "Epoch 5/50\n",
      "\u001b[1m12/12\u001b[0m \u001b[32m━━━━━━━━━━━━━━━━━━━━\u001b[0m\u001b[37m\u001b[0m \u001b[1m4s\u001b[0m 343ms/step - loss: 0.0176 - val_loss: 0.0166\n",
      "Epoch 6/50\n",
      "\u001b[1m12/12\u001b[0m \u001b[32m━━━━━━━━━━━━━━━━━━━━\u001b[0m\u001b[37m\u001b[0m \u001b[1m4s\u001b[0m 347ms/step - loss: 0.0158 - val_loss: 0.0159\n",
      "Epoch 7/50\n",
      "\u001b[1m12/12\u001b[0m \u001b[32m━━━━━━━━━━━━━━━━━━━━\u001b[0m\u001b[37m\u001b[0m \u001b[1m4s\u001b[0m 347ms/step - loss: 0.0153 - val_loss: 0.0155\n",
      "Epoch 8/50\n",
      "\u001b[1m12/12\u001b[0m \u001b[32m━━━━━━━━━━━━━━━━━━━━\u001b[0m\u001b[37m\u001b[0m \u001b[1m4s\u001b[0m 345ms/step - loss: 0.0146 - val_loss: 0.0149\n",
      "Epoch 9/50\n",
      "\u001b[1m12/12\u001b[0m \u001b[32m━━━━━━━━━━━━━━━━━━━━\u001b[0m\u001b[37m\u001b[0m \u001b[1m4s\u001b[0m 364ms/step - loss: 0.0141 - val_loss: 0.0149\n",
      "Epoch 10/50\n",
      "\u001b[1m12/12\u001b[0m \u001b[32m━━━━━━━━━━━━━━━━━━━━\u001b[0m\u001b[37m\u001b[0m \u001b[1m4s\u001b[0m 347ms/step - loss: 0.0139 - val_loss: 0.0147\n",
      "Epoch 11/50\n",
      "\u001b[1m12/12\u001b[0m \u001b[32m━━━━━━━━━━━━━━━━━━━━\u001b[0m\u001b[37m\u001b[0m \u001b[1m4s\u001b[0m 349ms/step - loss: 0.0138 - val_loss: 0.0140\n",
      "Epoch 12/50\n",
      "\u001b[1m12/12\u001b[0m \u001b[32m━━━━━━━━━━━━━━━━━━━━\u001b[0m\u001b[37m\u001b[0m \u001b[1m4s\u001b[0m 348ms/step - loss: 0.0133 - val_loss: 0.0141\n",
      "Epoch 13/50\n",
      "\u001b[1m12/12\u001b[0m \u001b[32m━━━━━━━━━━━━━━━━━━━━\u001b[0m\u001b[37m\u001b[0m \u001b[1m4s\u001b[0m 347ms/step - loss: 0.0130 - val_loss: 0.0138\n",
      "Epoch 14/50\n",
      "\u001b[1m12/12\u001b[0m \u001b[32m━━━━━━━━━━━━━━━━━━━━\u001b[0m\u001b[37m\u001b[0m \u001b[1m4s\u001b[0m 339ms/step - loss: 0.0131 - val_loss: 0.0138\n",
      "Epoch 15/50\n",
      "\u001b[1m12/12\u001b[0m \u001b[32m━━━━━━━━━━━━━━━━━━━━\u001b[0m\u001b[37m\u001b[0m \u001b[1m4s\u001b[0m 344ms/step - loss: 0.0130 - val_loss: 0.0134\n",
      "Epoch 16/50\n",
      "\u001b[1m12/12\u001b[0m \u001b[32m━━━━━━━━━━━━━━━━━━━━\u001b[0m\u001b[37m\u001b[0m \u001b[1m4s\u001b[0m 337ms/step - loss: 0.0129 - val_loss: 0.0137\n",
      "Epoch 17/50\n",
      "\u001b[1m12/12\u001b[0m \u001b[32m━━━━━━━━━━━━━━━━━━━━\u001b[0m\u001b[37m\u001b[0m \u001b[1m4s\u001b[0m 341ms/step - loss: 0.0128 - val_loss: 0.0136\n",
      "Epoch 18/50\n",
      "\u001b[1m12/12\u001b[0m \u001b[32m━━━━━━━━━━━━━━━━━━━━\u001b[0m\u001b[37m\u001b[0m \u001b[1m4s\u001b[0m 340ms/step - loss: 0.0124 - val_loss: 0.0131\n",
      "Epoch 19/50\n",
      "\u001b[1m12/12\u001b[0m \u001b[32m━━━━━━━━━━━━━━━━━━━━\u001b[0m\u001b[37m\u001b[0m \u001b[1m4s\u001b[0m 343ms/step - loss: 0.0120 - val_loss: 0.0125\n",
      "Epoch 20/50\n",
      "\u001b[1m12/12\u001b[0m \u001b[32m━━━━━━━━━━━━━━━━━━━━\u001b[0m\u001b[37m\u001b[0m \u001b[1m4s\u001b[0m 342ms/step - loss: 0.0115 - val_loss: 0.0123\n",
      "Epoch 21/50\n",
      "\u001b[1m12/12\u001b[0m \u001b[32m━━━━━━━━━━━━━━━━━━━━\u001b[0m\u001b[37m\u001b[0m \u001b[1m4s\u001b[0m 342ms/step - loss: 0.0113 - val_loss: 0.0120\n",
      "Epoch 22/50\n",
      "\u001b[1m12/12\u001b[0m \u001b[32m━━━━━━━━━━━━━━━━━━━━\u001b[0m\u001b[37m\u001b[0m \u001b[1m4s\u001b[0m 339ms/step - loss: 0.0110 - val_loss: 0.0120\n",
      "Epoch 23/50\n",
      "\u001b[1m12/12\u001b[0m \u001b[32m━━━━━━━━━━━━━━━━━━━━\u001b[0m\u001b[37m\u001b[0m \u001b[1m4s\u001b[0m 347ms/step - loss: 0.0106 - val_loss: 0.0120\n",
      "Epoch 24/50\n",
      "\u001b[1m12/12\u001b[0m \u001b[32m━━━━━━━━━━━━━━━━━━━━\u001b[0m\u001b[37m\u001b[0m \u001b[1m4s\u001b[0m 342ms/step - loss: 0.0108 - val_loss: 0.0116\n",
      "Epoch 25/50\n",
      "\u001b[1m12/12\u001b[0m \u001b[32m━━━━━━━━━━━━━━━━━━━━\u001b[0m\u001b[37m\u001b[0m \u001b[1m4s\u001b[0m 345ms/step - loss: 0.0103 - val_loss: 0.0113\n",
      "Epoch 26/50\n",
      "\u001b[1m12/12\u001b[0m \u001b[32m━━━━━━━━━━━━━━━━━━━━\u001b[0m\u001b[37m\u001b[0m \u001b[1m4s\u001b[0m 338ms/step - loss: 0.0098 - val_loss: 0.0109\n",
      "Epoch 27/50\n",
      "\u001b[1m12/12\u001b[0m \u001b[32m━━━━━━━━━━━━━━━━━━━━\u001b[0m\u001b[37m\u001b[0m \u001b[1m4s\u001b[0m 339ms/step - loss: 0.0095 - val_loss: 0.0109\n",
      "Epoch 28/50\n",
      "\u001b[1m12/12\u001b[0m \u001b[32m━━━━━━━━━━━━━━━━━━━━\u001b[0m\u001b[37m\u001b[0m \u001b[1m4s\u001b[0m 339ms/step - loss: 0.0093 - val_loss: 0.0108\n",
      "Epoch 29/50\n",
      "\u001b[1m12/12\u001b[0m \u001b[32m━━━━━━━━━━━━━━━━━━━━\u001b[0m\u001b[37m\u001b[0m \u001b[1m4s\u001b[0m 339ms/step - loss: 0.0091 - val_loss: 0.0110\n",
      "Epoch 30/50\n",
      "\u001b[1m12/12\u001b[0m \u001b[32m━━━━━━━━━━━━━━━━━━━━\u001b[0m\u001b[37m\u001b[0m \u001b[1m4s\u001b[0m 345ms/step - loss: 0.0091 - val_loss: 0.0102\n",
      "Epoch 31/50\n",
      "\u001b[1m12/12\u001b[0m \u001b[32m━━━━━━━━━━━━━━━━━━━━\u001b[0m\u001b[37m\u001b[0m \u001b[1m4s\u001b[0m 349ms/step - loss: 0.0088 - val_loss: 0.0101\n",
      "Epoch 32/50\n",
      "\u001b[1m12/12\u001b[0m \u001b[32m━━━━━━━━━━━━━━━━━━━━\u001b[0m\u001b[37m\u001b[0m \u001b[1m4s\u001b[0m 349ms/step - loss: 0.0083 - val_loss: 0.0100\n",
      "Epoch 33/50\n",
      "\u001b[1m12/12\u001b[0m \u001b[32m━━━━━━━━━━━━━━━━━━━━\u001b[0m\u001b[37m\u001b[0m \u001b[1m4s\u001b[0m 346ms/step - loss: 0.0082 - val_loss: 0.0099\n",
      "Epoch 34/50\n",
      "\u001b[1m12/12\u001b[0m \u001b[32m━━━━━━━━━━━━━━━━━━━━\u001b[0m\u001b[37m\u001b[0m \u001b[1m4s\u001b[0m 345ms/step - loss: 0.0080 - val_loss: 0.0100\n",
      "Epoch 35/50\n",
      "\u001b[1m12/12\u001b[0m \u001b[32m━━━━━━━━━━━━━━━━━━━━\u001b[0m\u001b[37m\u001b[0m \u001b[1m4s\u001b[0m 343ms/step - loss: 0.0079 - val_loss: 0.0096\n",
      "Epoch 36/50\n",
      "\u001b[1m12/12\u001b[0m \u001b[32m━━━━━━━━━━━━━━━━━━━━\u001b[0m\u001b[37m\u001b[0m \u001b[1m4s\u001b[0m 344ms/step - loss: 0.0076 - val_loss: 0.0094\n",
      "Epoch 37/50\n",
      "\u001b[1m12/12\u001b[0m \u001b[32m━━━━━━━━━━━━━━━━━━━━\u001b[0m\u001b[37m\u001b[0m \u001b[1m4s\u001b[0m 358ms/step - loss: 0.0072 - val_loss: 0.0091\n",
      "Epoch 38/50\n",
      "\u001b[1m12/12\u001b[0m \u001b[32m━━━━━━━━━━━━━━━━━━━━\u001b[0m\u001b[37m\u001b[0m \u001b[1m4s\u001b[0m 357ms/step - loss: 0.0070 - val_loss: 0.0091\n",
      "Epoch 39/50\n",
      "\u001b[1m12/12\u001b[0m \u001b[32m━━━━━━━━━━━━━━━━━━━━\u001b[0m\u001b[37m\u001b[0m \u001b[1m4s\u001b[0m 360ms/step - loss: 0.0067 - val_loss: 0.0089\n",
      "Epoch 40/50\n",
      "\u001b[1m12/12\u001b[0m \u001b[32m━━━━━━━━━━━━━━━━━━━━\u001b[0m\u001b[37m\u001b[0m \u001b[1m4s\u001b[0m 351ms/step - loss: 0.0064 - val_loss: 0.0086\n",
      "Epoch 41/50\n",
      "\u001b[1m12/12\u001b[0m \u001b[32m━━━━━━━━━━━━━━━━━━━━\u001b[0m\u001b[37m\u001b[0m \u001b[1m4s\u001b[0m 343ms/step - loss: 0.0061 - val_loss: 0.0087\n",
      "Epoch 42/50\n",
      "\u001b[1m12/12\u001b[0m \u001b[32m━━━━━━━━━━━━━━━━━━━━\u001b[0m\u001b[37m\u001b[0m \u001b[1m4s\u001b[0m 342ms/step - loss: 0.0058 - val_loss: 0.0085\n",
      "Epoch 43/50\n",
      "\u001b[1m12/12\u001b[0m \u001b[32m━━━━━━━━━━━━━━━━━━━━\u001b[0m\u001b[37m\u001b[0m \u001b[1m4s\u001b[0m 342ms/step - loss: 0.0059 - val_loss: 0.0086\n",
      "Epoch 44/50\n",
      "\u001b[1m12/12\u001b[0m \u001b[32m━━━━━━━━━━━━━━━━━━━━\u001b[0m\u001b[37m\u001b[0m \u001b[1m4s\u001b[0m 347ms/step - loss: 0.0058 - val_loss: 0.0083\n",
      "Epoch 45/50\n",
      "\u001b[1m12/12\u001b[0m \u001b[32m━━━━━━━━━━━━━━━━━━━━\u001b[0m\u001b[37m\u001b[0m \u001b[1m4s\u001b[0m 340ms/step - loss: 0.0054 - val_loss: 0.0083\n",
      "Epoch 46/50\n",
      "\u001b[1m12/12\u001b[0m \u001b[32m━━━━━━━━━━━━━━━━━━━━\u001b[0m\u001b[37m\u001b[0m \u001b[1m4s\u001b[0m 343ms/step - loss: 0.0052 - val_loss: 0.0081\n",
      "Epoch 47/50\n",
      "\u001b[1m12/12\u001b[0m \u001b[32m━━━━━━━━━━━━━━━━━━━━\u001b[0m\u001b[37m\u001b[0m \u001b[1m4s\u001b[0m 344ms/step - loss: 0.0051 - val_loss: 0.0081\n",
      "Epoch 48/50\n",
      "\u001b[1m12/12\u001b[0m \u001b[32m━━━━━━━━━━━━━━━━━━━━\u001b[0m\u001b[37m\u001b[0m \u001b[1m4s\u001b[0m 342ms/step - loss: 0.0051 - val_loss: 0.0085\n",
      "Epoch 49/50\n",
      "\u001b[1m12/12\u001b[0m \u001b[32m━━━━━━━━━━━━━━━━━━━━\u001b[0m\u001b[37m\u001b[0m \u001b[1m4s\u001b[0m 342ms/step - loss: 0.0053 - val_loss: 0.0086\n",
      "Epoch 50/50\n",
      "\u001b[1m12/12\u001b[0m \u001b[32m━━━━━━━━━━━━━━━━━━━━\u001b[0m\u001b[37m\u001b[0m \u001b[1m4s\u001b[0m 339ms/step - loss: 0.0050 - val_loss: 0.0079\n"
     ]
    }
   ],
   "source": [
    "history = autoencoder.fit(\n",
    "    X_train, X_train,\n",
    "    epochs=50,\n",
    "    batch_size=64,\n",
    "    shuffle=True,\n",
    "    validation_data=(X_val, X_val)\n",
    ")"
   ]
  },
  {
   "cell_type": "code",
   "execution_count": 16,
   "id": "11dd80b8",
   "metadata": {},
   "outputs": [
    {
     "name": "stdout",
     "output_type": "stream",
     "text": [
      "\u001b[1m6/6\u001b[0m \u001b[32m━━━━━━━━━━━━━━━━━━━━\u001b[0m\u001b[37m\u001b[0m \u001b[1m0s\u001b[0m 28ms/step\n",
      "Reconstruction MSE: 0.007909\n",
      "Reconstruction RMSE: 0.088935\n"
     ]
    }
   ],
   "source": [
    "from sklearn.metrics import mean_squared_error\n",
    "import numpy as np\n",
    "\n",
    "# Rekonstruksi data validation\n",
    "X_val_pred = autoencoder.predict(X_val)\n",
    "\n",
    "# Hitung MSE dan RMSE\n",
    "mse = mean_squared_error(X_val.flatten(), X_val_pred.flatten())\n",
    "rmse = np.sqrt(mse)\n",
    "\n",
    "print(f\"Reconstruction MSE: {mse:.6f}\")\n",
    "print(f\"Reconstruction RMSE: {rmse:.6f}\")\n"
   ]
  },
  {
   "cell_type": "code",
   "execution_count": 17,
   "id": "95e62e89",
   "metadata": {},
   "outputs": [
    {
     "name": "stdout",
     "output_type": "stream",
     "text": [
      "\u001b[1m29/29\u001b[0m \u001b[32m━━━━━━━━━━━━━━━━━━━━\u001b[0m\u001b[37m\u001b[0m \u001b[1m0s\u001b[0m 10ms/step\n",
      "Shape data kompresi: (900, 128)\n"
     ]
    }
   ],
   "source": [
    "X_encoded = encoder.predict(X)\n",
    "print(\"Shape data kompresi:\", X_encoded.shape)  # (jumlah_sampel, 128)"
   ]
  },
  {
   "cell_type": "markdown",
   "id": "2e9ebab9",
   "metadata": {},
   "source": [
    "# ADASYN"
   ]
  },
  {
   "cell_type": "code",
   "execution_count": 23,
   "id": "3c8c3a39",
   "metadata": {},
   "outputs": [
    {
     "name": "stdout",
     "output_type": "stream",
     "text": [
      "Distribusi kelas sebelum: [421 299 180]\n",
      "Distribusi kelas sesudah: [421 357 443]\n",
      "Jumlah total sampel setelah balancing: 1221\n"
     ]
    }
   ],
   "source": [
    "from imblearn.over_sampling import ADASYN\n",
    "\n",
    "# Ambil fitur (hasil autoencoder)\n",
    "X = X_encoded\n",
    "\n",
    "# Ambil target asli (nilai NINO3.4 numerik)\n",
    "y_numeric = df['NINO3.4'].values\n",
    "\n",
    "# Buat label kategori untuk balancing\n",
    "def categorize_nino34(anom):\n",
    "    if anom >= 0.5:\n",
    "        return 1   # El Niño\n",
    "    elif anom <= -0.5:\n",
    "        return -1  # La Niña\n",
    "    else:\n",
    "        return 0   # Netral\n",
    "\n",
    "y_class = np.array([categorize_nino34(val) for val in y_numeric])\n",
    "\n",
    "# Gabungkan X dan y_numeric supaya keduanya ikut di-resample\n",
    "data = np.hstack([X, y_numeric.reshape(-1, 1)])\n",
    "\n",
    "# Resample berdasarkan y_class (kategori) tapi tetap bawa NINO3.4 asli\n",
    "adasyn = ADASYN(random_state=42)\n",
    "data_resampled, y_class_resampled = adasyn.fit_resample(data, y_class)\n",
    "\n",
    "# Pisahkan kembali\n",
    "X_resampled = data_resampled[:, :-1]  # fitur (encoded)\n",
    "y_numeric_resampled = data_resampled[:, -1]  # target asli (regresi)\n",
    "\n",
    "print(\"Distribusi kelas sebelum:\", np.bincount(y_class + 1))\n",
    "print(\"Distribusi kelas sesudah:\", np.bincount(y_class_resampled + 1))\n",
    "print(\"Jumlah total sampel setelah balancing:\", len(y_numeric_resampled))\n"
   ]
  },
  {
   "cell_type": "code",
   "execution_count": 24,
   "id": "d4c05f9d",
   "metadata": {},
   "outputs": [
    {
     "name": "stdout",
     "output_type": "stream",
     "text": [
      "Dataset balanced berhasil disimpan\n"
     ]
    }
   ],
   "source": [
    "# Gabungkan jadi satu DataFrame\n",
    "balanced_df = pd.DataFrame(X_resampled)\n",
    "balanced_df['NINO3.4'] = y_numeric_resampled\n",
    "\n",
    "# Simpan ke CSV\n",
    "balanced_df.to_csv(\"ENSO_dataset_balanced.csv\", index=False)\n",
    "\n",
    "print(\"Dataset balanced berhasil disimpan\")"
   ]
  }
 ],
 "metadata": {
  "kernelspec": {
   "display_name": "tf",
   "language": "python",
   "name": "python3"
  },
  "language_info": {
   "codemirror_mode": {
    "name": "ipython",
    "version": 3
   },
   "file_extension": ".py",
   "mimetype": "text/x-python",
   "name": "python",
   "nbconvert_exporter": "python",
   "pygments_lexer": "ipython3",
   "version": "3.10.18"
  }
 },
 "nbformat": 4,
 "nbformat_minor": 5
}
